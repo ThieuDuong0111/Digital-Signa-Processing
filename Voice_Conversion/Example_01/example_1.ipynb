{
 "cells": [
  {
   "cell_type": "code",
   "execution_count": 18,
   "metadata": {},
   "outputs": [],
   "source": [
    "import librosa\n",
    "import sounddevice as sd\n",
    "import numpy as np\n",
    "\n",
    "def change_voice(audio_file, shift_semitones, speed_factor):\n",
    "    \"\"\"Thay đổi giọng nói.\"\"\"\n",
    "    y, sr = librosa.load(audio_file, sr=None)\n",
    "\n",
    "    # Lọc nhiễu\n",
    "    y = librosa.effects.preemphasis(y)\n",
    "\n",
    "    # Thay đổi cao độ\n",
    "    y_shifted = librosa.effects.pitch_shift(y, sr=sr, n_steps=shift_semitones)\n",
    "\n",
    "    # Điều chỉnh tốc độ\n",
    "    y_speed = librosa.effects.time_stretch(y_shifted, rate=speed_factor)\n",
    "\n",
    "    return y_speed, sr\n",
    "\n",
    "def play_audio(audio_data, sample_rate):\n",
    "    \"\"\"Phát lại âm thanh.\"\"\"\n",
    "    sd.play(audio_data, samplerate=sample_rate)\n",
    "    sd.wait()\n",
    "\n",
    "if __name__ == \"__main__\":\n",
    "    audio_file = \"male_voice.wav\"\n",
    "    shift_semitones = 6\n",
    "    speed_factor = 1.1 # Tăng tốc độ 10%\n",
    "\n",
    "    y_changed, sr = change_voice(audio_file, shift_semitones, speed_factor)\n",
    "    play_audio(y_changed, sr)"
   ]
  }
 ],
 "metadata": {
  "kernelspec": {
   "display_name": "Python 3",
   "language": "python",
   "name": "python3"
  },
  "language_info": {
   "codemirror_mode": {
    "name": "ipython",
    "version": 3
   },
   "file_extension": ".py",
   "mimetype": "text/x-python",
   "name": "python",
   "nbconvert_exporter": "python",
   "pygments_lexer": "ipython3",
   "version": "3.11.7"
  }
 },
 "nbformat": 4,
 "nbformat_minor": 2
}
